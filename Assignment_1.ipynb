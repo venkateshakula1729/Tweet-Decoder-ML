{
  "cells": [
    {
      "cell_type": "markdown",
      "metadata": {
        "id": "view-in-github",
        "colab_type": "text"
      },
      "source": [
        "<a href=\"https://colab.research.google.com/github/Poojal04/Tweet-Decoder/blob/main/Copy_of_Copy_of_Assignment_3.ipynb\" target=\"_parent\"><img src=\"https://colab.research.google.com/assets/colab-badge.svg\" alt=\"Open In Colab\"/></a>"
      ]
    },
    {
      "cell_type": "markdown",
      "metadata": {
        "id": "Y2VR5yE2Q1lD"
      },
      "source": [
        "# Preprocessing\n",
        "\n",
        "In this Assignment, we will be exploring how to preprocess tweets for sentiment analysis.\n"
      ]
    },
    {
      "cell_type": "code",
      "execution_count": null,
      "metadata": {
        "id": "Try8QG5xQ1lL"
      },
      "outputs": [],
      "source": [
        "import nltk                                # Python library for NLP\n",
        "from nltk.corpus import twitter_samples    # sample Twitter dataset from NLTK\n",
        "import matplotlib.pyplot as plt            # library for visualization\n",
        "import random                              # pseudo-random number generator"
      ]
    },
    {
      "cell_type": "markdown",
      "metadata": {
        "id": "puelnnDoQ1lM"
      },
      "source": [
        "## About the Twitter dataset\n",
        "\n",
        "The sample dataset from NLTK is separated into positive and negative tweets. It contains 5000 positive tweets and 5000 negative tweets exactly. The exact match between these classes is not a coincidence. The intention is to have a balanced dataset. That does not reflect the real distributions of positive and negative classes in live Twitter streams.\n",
        "\n"
      ]
    },
    {
      "cell_type": "code",
      "execution_count": null,
      "metadata": {
        "colab": {
          "base_uri": "https://localhost:8080/"
        },
        "id": "zxKktlhMQ1lN",
        "outputId": "6bf44b97-917b-48bb-d6ec-d7034ae80584"
      },
      "outputs": [
        {
          "output_type": "stream",
          "name": "stderr",
          "text": [
            "[nltk_data] Downloading package twitter_samples to /root/nltk_data...\n",
            "[nltk_data]   Unzipping corpora/twitter_samples.zip.\n"
          ]
        },
        {
          "output_type": "execute_result",
          "data": {
            "text/plain": [
              "True"
            ]
          },
          "metadata": {},
          "execution_count": 2
        }
      ],
      "source": [
        "# downloads sample twitter dataset.\n",
        "nltk.download('twitter_samples')"
      ]
    },
    {
      "cell_type": "markdown",
      "metadata": {
        "id": "ZjWs6tqbQ1lN"
      },
      "source": [
        "We can load the text fields of the positive and negative tweets by using the module's `strings()` method like this:"
      ]
    },
    {
      "cell_type": "code",
      "execution_count": null,
      "metadata": {
        "id": "cCN9YKaCQ1lN"
      },
      "outputs": [],
      "source": [
        "# select the set of positive and negative tweets\n",
        "all_positive_tweets = twitter_samples.strings('positive_tweets.json')\n",
        "all_negative_tweets = twitter_samples.strings('negative_tweets.json')"
      ]
    },
    {
      "cell_type": "markdown",
      "metadata": {
        "id": "rfK_KjdIQ1lO"
      },
      "source": [
        "Next, we'll print a report with the number of positive and negative tweets. It is also essential to know the data structure of the datasets"
      ]
    },
    {
      "cell_type": "code",
      "execution_count": null,
      "metadata": {
        "id": "_XrygbufQ1lO"
      },
      "outputs": [],
      "source": [
        "print('Number of positive tweets: ', len(all_positive_tweets))\n",
        "print('Number of negative tweets: ', len(all_negative_tweets))\n",
        "\n",
        "print('\\nThe type of all_positive_tweets is: ', type(all_positive_tweets))\n",
        "print('The type of a tweet entry is: ', type(all_negative_tweets[0]))\n",
        "print(all_negative_tweets[0])"
      ]
    },
    {
      "cell_type": "markdown",
      "metadata": {
        "id": "Y9SEd0krQ1lP"
      },
      "source": [
        "## Looking at raw texts\n",
        "\n",
        "\n",
        "\n",
        "Below, you will print one random positive and one random negative tweet."
      ]
    },
    {
      "cell_type": "code",
      "execution_count": null,
      "metadata": {
        "id": "x_4GnNOMQ1lP"
      },
      "outputs": [],
      "source": [
        "print(all_positive_tweets[random.randint(0,5000)])\n",
        "print(all_negative_tweets[random.randint(0,5000)])"
      ]
    },
    {
      "cell_type": "markdown",
      "metadata": {
        "id": "VlhrXoUrQ1lQ"
      },
      "source": [
        "## Preprocess raw text for Sentiment analysis"
      ]
    },
    {
      "cell_type": "markdown",
      "metadata": {
        "id": "a3lDAfnMQ1lQ"
      },
      "source": [
        "Data preprocessing is one of the critical steps in any machine learning project. It includes cleaning and formatting the data before feeding into a machine learning algorithm. For NLP, the preprocessing steps are comprised of the following tasks:\n",
        "\n",
        "* Tokenizing the string\n",
        "* Lowercasing\n",
        "* Removing stop words and punctuation\n",
        "* Stemming\n",
        "\n",
        "\n"
      ]
    },
    {
      "cell_type": "code",
      "execution_count": null,
      "metadata": {
        "id": "bm6bNsrzQ1lQ"
      },
      "outputs": [],
      "source": [
        "# Our selected sample. Complex enough to exemplify each step\n",
        "tweet = all_positive_tweets[2277]\n",
        "print(tweet)"
      ]
    },
    {
      "cell_type": "markdown",
      "metadata": {
        "id": "YyZR0yYwQ1lQ"
      },
      "source": [
        "Let's import a few more libraries for this purpose."
      ]
    },
    {
      "cell_type": "code",
      "execution_count": null,
      "metadata": {
        "id": "tcviT9auQ1lR"
      },
      "outputs": [],
      "source": [
        "# download the stopwords from NLTK\n",
        "nltk.download('stopwords')"
      ]
    },
    {
      "cell_type": "code",
      "execution_count": null,
      "metadata": {
        "id": "aT8QHMY5Q1lR"
      },
      "outputs": [],
      "source": [
        "import re                                  # library for regular expression operations\n",
        "import string                              # for string operations\n",
        "\n",
        "from nltk.corpus import stopwords          # module for stop words that come with NLTK\n",
        "from nltk.stem import PorterStemmer        # module for stemming\n",
        "from nltk.tokenize import TweetTokenizer   # module for tokenizing strings"
      ]
    },
    {
      "cell_type": "markdown",
      "metadata": {
        "id": "VG3ImX_IQ1lR"
      },
      "source": [
        "### Remove hyperlinks,  Twitter marks and styles\n",
        "\n",
        "Since we have a Twitter dataset, we'd like to remove some substrings commonly used on the platform like the hashtag, retweet marks, and hyperlinks. We'll use the [re](https://docs.python.org/3/library/re.html) library to perform regular expression operations on our tweet. We'll define our search pattern and use the `sub()` method to remove matches by substituting with an empty character (i.e. `''`)"
      ]
    },
    {
      "cell_type": "code",
      "execution_count": null,
      "metadata": {
        "id": "a5IcXDqkQ1lR",
        "scrolled": true
      },
      "outputs": [],
      "source": [
        "# remove old style retweet text \"RT\"\n",
        "tweet2 = re.sub(r'^RT[\\s]+', '', tweet)\n",
        "\n",
        "# remove hyperlinks\n",
        "tweet2 = re.sub(r'https?://[^\\s\\n\\r]+', '', tweet2)\n",
        "\n",
        "# remove hashtags\n",
        "# only removing the hash # sign from the word\n",
        "tweet2 = re.sub(r'#', '', tweet2)\n",
        "\n",
        "print(tweet2)"
      ]
    },
    {
      "cell_type": "markdown",
      "metadata": {
        "id": "pHn6jA0tQ1lR"
      },
      "source": [
        "### Tokenize the string\n",
        "\n",
        "To tokenize means to split the strings into individual words without blanks or tabs. In this same step, we will also convert each word in the string to lower case. The [tokenize](https://www.nltk.org/api/nltk.tokenize.html#module-nltk.tokenize.casual) module from NLTK allows us to do these easily:"
      ]
    },
    {
      "cell_type": "code",
      "execution_count": null,
      "metadata": {
        "id": "TzLGfUX3Q1lS"
      },
      "outputs": [],
      "source": [
        "# instantiate tokenizer class\n",
        "tokenizer = TweetTokenizer(preserve_case=False, strip_handles=True,\n",
        "                               reduce_len=True)\n",
        "\n",
        "# tokenize tweets\n",
        "tweet_tokens = tokenizer.tokenize(tweet2)\n",
        "\n",
        "print()\n",
        "print('Tokenized string:')\n",
        "print(tweet_tokens)"
      ]
    },
    {
      "cell_type": "markdown",
      "metadata": {
        "id": "tzhpto5LQ1lS"
      },
      "source": [
        "### Remove stop words and punctuations\n",
        "\n",
        "The next step is to remove stop words and punctuation. Stop words are words that don't add significant meaning to the text. You'll see the list provided by NLTK when you run the cells below."
      ]
    },
    {
      "cell_type": "code",
      "execution_count": null,
      "metadata": {
        "id": "hEuUul5rQ1lS"
      },
      "outputs": [],
      "source": [
        "#Import the english stop words list from NLTK\n",
        "stopwords_english = stopwords.words('english')\n",
        "\n",
        "print('Stop words\\n')\n",
        "print(stopwords_english)\n",
        "\n",
        "print('\\nPunctuation\\n')\n",
        "print(string.punctuation)"
      ]
    },
    {
      "cell_type": "markdown",
      "metadata": {
        "id": "CgLmDiBNQ1lS"
      },
      "source": [
        "We can see that the stop words list above contains some words that could be important in some contexts.\n",
        "\n",
        "\n",
        "Time to clean up our tokenized tweet!"
      ]
    },
    {
      "cell_type": "code",
      "execution_count": null,
      "metadata": {
        "id": "HNhIlrG1Q1lT"
      },
      "outputs": [],
      "source": [
        "\n",
        "print(tweet_tokens)\n",
        "\n",
        "tweets_clean = []\n",
        "\n",
        "for word in tweet_tokens: # Go through every word in your tokens list\n",
        "    if (word not in stopwords_english and  # remove stopwords\n",
        "        word not in string.punctuation):  # remove punctuation\n",
        "        tweets_clean.append(word)\n",
        "\n",
        "print('removed stop words and punctuation:')\n",
        "print(tweets_clean)"
      ]
    },
    {
      "cell_type": "markdown",
      "metadata": {
        "id": "Lu-m6zZwQ1lT"
      },
      "source": [
        "Please note that the words **happy** and **sunny** in this list are correctly spelled."
      ]
    },
    {
      "cell_type": "markdown",
      "metadata": {
        "id": "aYU0Fo6vQ1lT"
      },
      "source": [
        "### Stemming\n",
        "\n",
        "Stemming is the process of converting a word to its most general form, or stem. This helps in reducing the size of our vocabulary.\n",
        "\n",
        "Consider the words:\n",
        " * **learn**\n",
        " * **learn**ing\n",
        " * **learn**ed\n",
        " * **learn**t\n",
        "\n",
        "All these words are stemmed from its common root **learn**. However, in some cases, the stemming process produces words that are not correct spellings of the root word. For example, **happi** and **sunni**. That's because it chooses the most common stem for related words. For example, we can look at the set of words that comprises the different forms of happy:\n",
        "\n",
        " * **happ**y\n",
        " * **happi**ness\n",
        " * **happi**er\n",
        "\n",
        "We can see that the prefix **happi** is more commonly used. We cannot choose **happ** because it is the stem of unrelated words like **happen**.\n",
        "\n",
        "NLTK has different modules for stemming and we will be using the [PorterStemmer](https://www.nltk.org/api/nltk.stem.html#module-nltk.stem.porter) module which uses the [Porter Stemming Algorithm](https://tartarus.org/martin/PorterStemmer/). Let's see how we can use it in the cell below."
      ]
    },
    {
      "cell_type": "code",
      "execution_count": null,
      "metadata": {
        "id": "dPUI2hi3Q1lT"
      },
      "outputs": [],
      "source": [
        "\n",
        "print(tweets_clean)\n",
        "\n",
        "# Instantiate stemming class\n",
        "stemmer = PorterStemmer()\n",
        "\n",
        "# Create an empty list to store the stems\n",
        "tweets_stem = []\n",
        "\n",
        "for word in tweets_clean:\n",
        "    stem_word = stemmer.stem(word)  # stemming word\n",
        "    tweets_stem.append(stem_word)  # append to the list\n",
        "\n",
        "print('stemmed words:')\n",
        "print(tweets_stem)"
      ]
    },
    {
      "cell_type": "code",
      "execution_count": null,
      "metadata": {
        "id": "-NlATHQ8z2Cc"
      },
      "outputs": [],
      "source": [
        "processed_tweet=' '.join(tweets_stem)\n",
        "processed_tweet"
      ]
    },
    {
      "cell_type": "markdown",
      "metadata": {
        "id": "kXevPC2RQ1lU"
      },
      "source": [
        "That's it! Now we have a sentence which can be feed into to the next stage\n",
        "of our  project."
      ]
    },
    {
      "cell_type": "markdown",
      "metadata": {
        "id": "zBHp8KB83xz1"
      },
      "source": [
        "."
      ]
    },
    {
      "cell_type": "markdown",
      "metadata": {
        "id": "wlUUC5S33jMQ"
      },
      "source": [
        "PART 2: Sentimental Analysis"
      ]
    },
    {
      "cell_type": "code",
      "execution_count": null,
      "metadata": {
        "id": "Ifa_z4zG3MH_"
      },
      "outputs": [],
      "source": [
        "import numpy as np\n",
        "import pandas as pd\n",
        "nltk.download('twitter_samples')\n",
        "# select the lists of positive and negative tweets\n",
        "all_positive_tweets = twitter_samples.strings('positive_tweets.json')\n",
        "all_negative_tweets = twitter_samples.strings('negative_tweets.json')\n",
        "\n",
        "# concatenate the lists, 1st part is the positive tweets followed by the negative\n",
        "tweets = all_positive_tweets + all_negative_tweets"
      ]
    },
    {
      "cell_type": "code",
      "execution_count": null,
      "metadata": {
        "id": "P1qocwU-A_UO"
      },
      "outputs": [],
      "source": [
        "#print tweets\n",
        "print(tweets)"
      ]
    },
    {
      "cell_type": "code",
      "execution_count": null,
      "metadata": {
        "id": "VRQ9PKcs6gAy"
      },
      "outputs": [],
      "source": [
        "y=np.zeros(10000)\n",
        "for i in range(5000):\n",
        "  y[i]=1\n",
        ""
      ]
    },
    {
      "cell_type": "markdown",
      "metadata": {
        "id": "u28Un7Yc2w0x"
      },
      "source": [
        "Now make a function and implement pre-processing into all tweets and then make an array that contains all processed tweets as strings."
      ]
    },
    {
      "cell_type": "code",
      "execution_count": null,
      "metadata": {
        "id": "HLvmNbV_3W1z"
      },
      "outputs": [],
      "source": [
        "# Write your code here\n",
        "clean_text1=[]\n",
        "clean_text2=[]\n",
        "clean_text3=[]\n",
        "clean_text4=[]\n",
        "\n",
        "\n",
        "def pre_processing(data):\n",
        "  for word in data:\n",
        "     res= re.sub(r'^RT[\\s]+', \"\", word)\n",
        "     res= re.sub(r'https?://[^\\s\\n\\r]+', \"\", res)\n",
        "     res =re.sub(r'#', \"\", res)\n",
        "     if(res!=\"\"):\n",
        "      clean_text1.append(res)\n",
        "  for word in clean_text1:\n",
        "    tokenizer = TweetTokenizer(preserve_case=False, strip_handles=True,\n",
        "                               reduce_len=True)\n",
        "    tweet_tokens = tokenizer.tokenize(word)\n",
        "    clean_text2.append(tweet_tokens)\n",
        "  for words in clean_text2:\n",
        "    wor=[]\n",
        "    for w in words:\n",
        "     if (w not in stopwords_english and\n",
        "        w not in string.punctuation):\n",
        "        wor.append(w)\n",
        "    clean_text3.append(wor)\n",
        "  for word in clean_text3:\n",
        "    wor2=[]\n",
        "    for w in word:\n",
        "     stem_word = stemmer.stem(w)  # stemming word\n",
        "     wor2.append(stem_word)\n",
        "    clean_text4.append(wor2)\n",
        "\n",
        "pre_processing(tweets)\n",
        "clean_text4\n",
        "\n"
      ]
    },
    {
      "cell_type": "markdown",
      "metadata": {
        "id": "zDYnvp9u4Rn3"
      },
      "source": [
        "Now use **TfidfVectorizer** to vectorize your tweets into a numbered matrix\n",
        " **X**."
      ]
    },
    {
      "cell_type": "code",
      "execution_count": null,
      "metadata": {
        "id": "hG2SOoi83bTd"
      },
      "outputs": [],
      "source": [
        "from sklearn.feature_extraction.text import TfidfVectorizer\n",
        "nested_list=[[' '.join(i)] for i in clean_text4]\n",
        "flat_list = [sentence[0] for sentence in nested_list]\n",
        "vectorizer = TfidfVectorizer(min_df=0.0005)\n",
        "X = vectorizer.fit_transform(flat_list)\n",
        "X=pd.DataFrame(X.toarray(), columns = vectorizer.get_feature_names_out())\n",
        "X"
      ]
    },
    {
      "cell_type": "code",
      "execution_count": null,
      "metadata": {
        "colab": {
          "base_uri": "https://localhost:8080/"
        },
        "id": "iyha1mVG7fgh",
        "outputId": "700ba871-835f-40ae-8320-9b9c1044cf76"
      },
      "outputs": [
        {
          "output_type": "stream",
          "name": "stdout",
          "text": [
            "Epoch 1/10\n",
            "250/250 [==============================] - 8s 21ms/step - loss: 0.6014 - accuracy: 0.6702\n",
            "Epoch 2/10\n",
            "250/250 [==============================] - 3s 13ms/step - loss: 0.3952 - accuracy: 0.8077\n",
            "Epoch 3/10\n",
            "250/250 [==============================] - 3s 14ms/step - loss: 0.2784 - accuracy: 0.8715\n",
            "Epoch 4/10\n",
            "250/250 [==============================] - 4s 17ms/step - loss: 0.2133 - accuracy: 0.8995\n",
            "Epoch 5/10\n",
            "250/250 [==============================] - 3s 13ms/step - loss: 0.1663 - accuracy: 0.9206\n",
            "Epoch 6/10\n",
            "250/250 [==============================] - 3s 13ms/step - loss: 0.1516 - accuracy: 0.9251\n",
            "Epoch 7/10\n",
            "250/250 [==============================] - 4s 14ms/step - loss: 0.1290 - accuracy: 0.9408\n",
            "Epoch 8/10\n",
            "250/250 [==============================] - 4s 16ms/step - loss: 0.1181 - accuracy: 0.9410\n",
            "Epoch 9/10\n",
            "250/250 [==============================] - 3s 13ms/step - loss: 0.1063 - accuracy: 0.9467\n",
            "Epoch 10/10\n",
            "250/250 [==============================] - 3s 13ms/step - loss: 0.1069 - accuracy: 0.9454\n",
            "63/63 [==============================] - 0s 5ms/step - loss: 1.1961 - accuracy: 0.7120\n"
          ]
        },
        {
          "output_type": "execute_result",
          "data": {
            "text/plain": [
              "[1.1960663795471191, 0.7120000123977661]"
            ]
          },
          "metadata": {},
          "execution_count": 21
        }
      ],
      "source": [
        "\n",
        "import tensorflow as tf\n",
        "from sklearn import datasets\n",
        "from sklearn.model_selection import train_test_split\n",
        "array=X.values\n",
        "y_train, y_test = train_test_split(y, test_size=0.2, random_state=1234)\n",
        "X_train, X_test = train_test_split(array, test_size=0.2, random_state=1234)\n",
        "X_train_tensor = tf.convert_to_tensor(X_train)\n",
        "y_train_tensor = tf.convert_to_tensor(y_train)\n",
        "X_test_tensor = tf.convert_to_tensor(X_test)\n",
        "y_test_tensor = tf.convert_to_tensor(y_test)\n",
        "normalise = tf.keras.layers.Normalization(axis=-1)\n",
        "normalise.adapt(X_train_tensor)\n",
        "def build_and_compile_model(norm):\n",
        "  model = tf.keras.Sequential([\n",
        "      norm,\n",
        "      tf.keras.layers.Dense(500,activation='relu'),\n",
        "      tf.keras.layers.Dense(100,activation='relu'),\n",
        "      tf.keras.layers.Dense(50,activation='relu'),\n",
        "      tf.keras.layers.Dense(10,activation='relu'),\n",
        "      tf.keras.layers.Dense(2,activation='softmax')\n",
        "  ])\n",
        "  model.compile(optimizer='adam', loss=tf.keras.losses.SparseCategoricalCrossentropy(), metrics=['accuracy'])\n",
        "  return model\n",
        "dnn_model = build_and_compile_model(normalise)\n",
        "dnn_model.fit(X_train_tensor,y_train_tensor, epochs=10, batch_size=32)\n",
        "dnn_model.evaluate(X_test_tensor, y_test_tensor)\n",
        "\n",
        "\n",
        "\n",
        "\n"
      ]
    }
  ],
  "metadata": {
    "colab": {
      "provenance": [],
      "include_colab_link": true
    },
    "kernelspec": {
      "display_name": "Python 3",
      "language": "python",
      "name": "python3"
    },
    "language_info": {
      "codemirror_mode": {
        "name": "ipython",
        "version": 3
      },
      "file_extension": ".py",
      "mimetype": "text/x-python",
      "name": "python",
      "nbconvert_exporter": "python",
      "pygments_lexer": "ipython3",
      "version": "3.7.6"
    }
  },
  "nbformat": 4,
  "nbformat_minor": 0
}
